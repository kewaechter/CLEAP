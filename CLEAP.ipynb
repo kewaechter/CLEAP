{
 "cells": [
  {
   "cell_type": "code",
   "execution_count": null,
   "metadata": {
    "scrolled": true
   },
   "outputs": [],
   "source": [
    "#%%pixie_debugger\n",
    "#import modules needed\n",
    "import numpy \n",
    "import pandas as pd\n",
    "import requests\n",
    "from sqlalchemy import create_engine\n",
    "#import pixiedust\n",
    "\n",
    "#make postgres connection\n",
    "host = 'gispgdb.nrel.gov'\n",
    "dbase = 'dav-gis'\n",
    "user = 'kwaechte'\n",
    "pwd = 'steeltree18'\n",
    "con = create_engine('postgresql://{user}:{pwd}@{host}:5432/{dbase}'.format(host=host, dbase=dbase, user=user, pwd=pwd))\n",
    "\n",
    "doe_prototype_list = {\n",
    "    'null', 'outpatient', 'hospital', 'no_match', 'large_office', \n",
    "    'midrise_apartment', 'medium_office', 'secondary_school', \n",
    "    'warehouse', 'small_hotel', 'primary_school', 'small_office', 'retail'\n",
    "}\n",
    "\n",
    "state_codes = {\n",
    "    'WA': '53', 'DE': '10', 'DC': '11', 'WI': '55', 'WV': '54', 'HI': '15',\n",
    "    'FL': '12', 'WY': '56', 'PR': '72', 'NJ': '34', 'NM': '35', 'TX': '48',\n",
    "    'LA': '22', 'NC': '37', 'ND': '38', 'NE': '31', 'TN': '47', 'NY': '36',\n",
    "    'PA': '42', 'AK': '02', 'NV': '32', 'NH': '33', 'VA': '51', 'CO': '08',\n",
    "    'CA': '06', 'AL': '01', 'AR': '05', 'VT': '50', 'IL': '17', 'GA': '13',\n",
    "    'IN': '18', 'IA': '19', 'MA': '25', 'AZ': '04', 'ID': '16', 'CT': '09',\n",
    "    'ME': '23', 'MD': '24', 'OK': '40', 'OH': '39', 'UT': '49', 'MO': '29',\n",
    "    'MN': '27', 'MI': '26', 'RI': '44', 'KS': '20', 'MT': '30', 'MS': '28',\n",
    "    'SC': '45', 'KY': '21', 'OR': '41', 'SD': '46'\n",
    "}\n",
    "\n",
    "# STATE NOT EXISTS COSTAR\n",
    "sql_hospital = \"select * from costar.commercial_re_blk_gbs where doe_prototype = 'hospital'\"\n",
    "print (\"reading table into dataframe\")\n",
    "df_hospital = pd.read_sql(sql_hospital, con)\n",
    "\n",
    "df_hospital.head(5)"
   ]
  },
  {
   "cell_type": "code",
   "execution_count": null,
   "metadata": {
    "scrolled": true
   },
   "outputs": [],
   "source": [
    "print (\"HOSPITAL. data received. starting loop.\")\n",
    "for i, row in df_hospital.iterrows():\n",
    "#    print (i)\n",
    "    for state, fips_state in state_codes.items():\n",
    "        if fips_state == row.gisjoin[1:3]:\n",
    "            df_hospital.at[i, 'state'] = state\n",
    "#            print (\" || row.gisjoin=\"+row.gisjoin[1:3]+\"|| fips_state = \"+fips_state)\n",
    "print (\"loop done.\")\n",
    "df_hospital.tail(5)"
   ]
  },
  {
   "cell_type": "code",
   "execution_count": null,
   "metadata": {},
   "outputs": [],
   "source": [
    "df_hospital.tail(5)"
   ]
  },
  {
   "cell_type": "code",
   "execution_count": null,
   "metadata": {},
   "outputs": [],
   "source": [
    "import numpy \n",
    "import pandas as pd\n",
    "import requests\n",
    "from sqlalchemy import create_engine\n",
    "import time\n",
    "start = time.time()\n",
    "print (\"time started.\")\n",
    "#make postgres connection\n",
    "host = 'gispgdb.nrel.gov'\n",
    "dbase = 'dav-gis'\n",
    "user = 'kwaechte'\n",
    "pwd = 'steeltree18'\n",
    "con = create_engine('postgresql://{user}:{pwd}@{host}:5432/{dbase}'.format(host=host, dbase=dbase, user=user, pwd=pwd))\n",
    "\n",
    "# START RUNNING HERE\n",
    "# did this work? 11097562 records in df, 0 records in table\n",
    "print (\"starting export.\")\n",
    "out_table = 'comm_re_blk'\n",
    "out_schema = 'kwaechte'\n",
    "if_exists_decision = 'replace'\n",
    "df_hospital.to_sql(out_table, con, schema=out_schema, if_exists=if_exists_decision)\n",
    "end = time.time()\n",
    "print (\"Took %f minutes\" % ((end - start) / 60))\n",
    "print (\"dataframe copied to pg.\")"
   ]
  },
  {
   "cell_type": "code",
   "execution_count": null,
   "metadata": {},
   "outputs": [],
   "source": [
    "del df_hospital\n",
    "print (\"HOSPITAL dataframe deleted.\")"
   ]
  },
  {
   "cell_type": "code",
   "execution_count": 1,
   "metadata": {
    "scrolled": true
   },
   "outputs": [
    {
     "name": "stdout",
     "output_type": "stream",
     "text": [
      "reading table into dataframe\n",
      "Took 62.192166 minutes\n"
     ]
    },
    {
     "data": {
      "text/html": [
       "<div>\n",
       "<style scoped>\n",
       "    .dataframe tbody tr th:only-of-type {\n",
       "        vertical-align: middle;\n",
       "    }\n",
       "\n",
       "    .dataframe tbody tr th {\n",
       "        vertical-align: top;\n",
       "    }\n",
       "\n",
       "    .dataframe thead th {\n",
       "        text-align: right;\n",
       "    }\n",
       "</style>\n",
       "<table border=\"1\" class=\"dataframe\">\n",
       "  <thead>\n",
       "    <tr style=\"text-align: right;\">\n",
       "      <th></th>\n",
       "      <th>bldgcount</th>\n",
       "      <th>gisjoin</th>\n",
       "      <th>sqft</th>\n",
       "      <th>gbs</th>\n",
       "      <th>doe_prototype</th>\n",
       "      <th>source</th>\n",
       "      <th>geoid</th>\n",
       "    </tr>\n",
       "  </thead>\n",
       "  <tbody>\n",
       "    <tr>\n",
       "      <th>33292684</th>\n",
       "      <td>0.0</td>\n",
       "      <td>G72015307506022014</td>\n",
       "      <td>0.00000</td>\n",
       "      <td>Agriculture</td>\n",
       "      <td>None</td>\n",
       "      <td>hazus</td>\n",
       "      <td>72015307506022014</td>\n",
       "    </tr>\n",
       "    <tr>\n",
       "      <th>33292685</th>\n",
       "      <td>4.0</td>\n",
       "      <td>G72015307506022013</td>\n",
       "      <td>5334.00011</td>\n",
       "      <td>Single Family Dwelling</td>\n",
       "      <td>None</td>\n",
       "      <td>hazus</td>\n",
       "      <td>72015307506022013</td>\n",
       "    </tr>\n",
       "    <tr>\n",
       "      <th>33292686</th>\n",
       "      <td>23.0</td>\n",
       "      <td>G72015307506022014</td>\n",
       "      <td>30670.49980</td>\n",
       "      <td>Single Family Dwelling</td>\n",
       "      <td>None</td>\n",
       "      <td>hazus</td>\n",
       "      <td>72015307506022014</td>\n",
       "    </tr>\n",
       "    <tr>\n",
       "      <th>33292687</th>\n",
       "      <td>0.0</td>\n",
       "      <td>G72015307506022014</td>\n",
       "      <td>0.00000</td>\n",
       "      <td>Multi-dwelling (50+ units)</td>\n",
       "      <td>None</td>\n",
       "      <td>hazus</td>\n",
       "      <td>72015307506022014</td>\n",
       "    </tr>\n",
       "    <tr>\n",
       "      <th>33292688</th>\n",
       "      <td>0.0</td>\n",
       "      <td>G72015307506022015</td>\n",
       "      <td>0.00000</td>\n",
       "      <td>Agriculture</td>\n",
       "      <td>None</td>\n",
       "      <td>hazus</td>\n",
       "      <td>72015307506022015</td>\n",
       "    </tr>\n",
       "  </tbody>\n",
       "</table>\n",
       "</div>"
      ],
      "text/plain": [
       "          bldgcount             gisjoin         sqft  \\\n",
       "33292684        0.0  G72015307506022014      0.00000   \n",
       "33292685        4.0  G72015307506022013   5334.00011   \n",
       "33292686       23.0  G72015307506022014  30670.49980   \n",
       "33292687        0.0  G72015307506022014      0.00000   \n",
       "33292688        0.0  G72015307506022015      0.00000   \n",
       "\n",
       "                                 gbs doe_prototype source              geoid  \n",
       "33292684                 Agriculture          None  hazus  72015307506022014  \n",
       "33292685      Single Family Dwelling          None  hazus  72015307506022013  \n",
       "33292686      Single Family Dwelling          None  hazus  72015307506022014  \n",
       "33292687  Multi-dwelling (50+ units)          None  hazus  72015307506022014  \n",
       "33292688                 Agriculture          None  hazus  72015307506022015  "
      ]
     },
     "execution_count": 1,
     "metadata": {},
     "output_type": "execute_result"
    }
   ],
   "source": [
    "# null\n",
    "import numpy \n",
    "import pandas as pd\n",
    "import requests\n",
    "from sqlalchemy import create_engine\n",
    "import time\n",
    "\n",
    "#make postgres connection\n",
    "host = 'gispgdb.nrel.gov'\n",
    "dbase = 'dav-gis'\n",
    "user = 'kwaechte'\n",
    "pwd = 'steeltree18'\n",
    "con = create_engine('postgresql://{user}:{pwd}@{host}:5432/{dbase}'.format(host=host, dbase=dbase, user=user, pwd=pwd))\n",
    "\n",
    "start = time.time()\n",
    "sql_null = \"select * from costar.commercial_re_blk_gbs where doe_prototype is null\"\n",
    "print (\"reading table into dataframe\")\n",
    "df_null = pd.read_sql(sql_null, con)\n",
    "end = time.time()\n",
    "print (\"Took %f minutes\" % ((end - start) / 60))\n",
    "df_null.tail(5)"
   ]
  },
  {
   "cell_type": "code",
   "execution_count": null,
   "metadata": {},
   "outputs": [],
   "source": [
    "state_codes = {\n",
    "    'WA': '53', 'DE': '10', 'DC': '11', 'WI': '55', 'WV': '54', 'HI': '15',\n",
    "    'FL': '12', 'WY': '56', 'PR': '72', 'NJ': '34', 'NM': '35', 'TX': '48',\n",
    "    'LA': '22', 'NC': '37', 'ND': '38', 'NE': '31', 'TN': '47', 'NY': '36',\n",
    "    'PA': '42', 'AK': '02', 'NV': '32', 'NH': '33', 'VA': '51', 'CO': '08',\n",
    "    'CA': '06', 'AL': '01', 'AR': '05', 'VT': '50', 'IL': '17', 'GA': '13',\n",
    "    'IN': '18', 'IA': '19', 'MA': '25', 'AZ': '04', 'ID': '16', 'CT': '09',\n",
    "    'ME': '23', 'MD': '24', 'OK': '40', 'OH': '39', 'UT': '49', 'MO': '29',\n",
    "    'MN': '27', 'MI': '26', 'RI': '44', 'KS': '20', 'MT': '30', 'MS': '28',\n",
    "    'SC': '45', 'KY': '21', 'OR': '41', 'SD': '46'\n",
    "}\n",
    "print (\"NULL. data received. starting loop.\")\n",
    "start = time.time()\n",
    "for i, row in df_null.iterrows():\n",
    "#    print (i)\n",
    "    for state, fips_state in state_codes.items():\n",
    "        if fips_state == row.gisjoin[1:3]:\n",
    "            df_null.at[i, 'state'] = state\n",
    "#            print (\" || row.gisjoin=\"+row.gisjoin[1:3]+\"|| fips_state = \"+fips_state)\n",
    "end = time.time()\n",
    "print (\"Took %f minutes\" % ((end - start) / 60))\n",
    "print (\"loop done.\")\n",
    "df_null.tail(5)"
   ]
  },
  {
   "cell_type": "code",
   "execution_count": null,
   "metadata": {},
   "outputs": [],
   "source": [
    "out_table = 'non_comm_re'\n",
    "out_schema = 'kwaechte'\n",
    "if_exists_decision = 'replace'\n",
    "df_null.to_sql(out_table, con, schema=out_schema, if_exists=if_exists_decision)\n",
    "print (\"NULL dataframe copied to pg.\")"
   ]
  },
  {
   "cell_type": "code",
   "execution_count": 2,
   "metadata": {},
   "outputs": [
    {
     "ename": "NameError",
     "evalue": "name 'df_null' is not defined",
     "output_type": "error",
     "traceback": [
      "\u001b[0;31m---------------------------------------------------------------------------\u001b[0m",
      "\u001b[0;31mNameError\u001b[0m                                 Traceback (most recent call last)",
      "\u001b[0;32m<ipython-input-2-ba28a0e7877f>\u001b[0m in \u001b[0;36m<module>\u001b[0;34m()\u001b[0m\n\u001b[0;32m----> 1\u001b[0;31m \u001b[0;32mdel\u001b[0m \u001b[0mdf_null\u001b[0m\u001b[0;34m\u001b[0m\u001b[0m\n\u001b[0m\u001b[1;32m      2\u001b[0m \u001b[0mprint\u001b[0m \u001b[0;34m(\u001b[0m\u001b[0;34m\"NULL dataframe deleted.\"\u001b[0m\u001b[0;34m)\u001b[0m\u001b[0;34m\u001b[0m\u001b[0m\n",
      "\u001b[0;31mNameError\u001b[0m: name 'df_null' is not defined"
     ]
    }
   ],
   "source": [
    "del df_null\n",
    "print (\"NULL dataframe deleted.\")"
   ]
  },
  {
   "cell_type": "code",
   "execution_count": null,
   "metadata": {
    "scrolled": false
   },
   "outputs": [
    {
     "name": "stdout",
     "output_type": "stream",
     "text": [
      "reading table into dataframe\n"
     ]
    }
   ],
   "source": [
    "# no_match\n",
    "sql_nomatch = \"select * from costar.commercial_re_blk_gbs where doe_prototype = 'no_match'\"\n",
    "print (\"reading table into dataframe\")\n",
    "df_nomatch = pd.read_sql(sql_nomatch, con)\n",
    "df_nomatch.head(5)"
   ]
  },
  {
   "cell_type": "code",
   "execution_count": null,
   "metadata": {},
   "outputs": [],
   "source": [
    "print (\"NO_MATCH. data received. starting loop.\")\n",
    "\n",
    "for i, row in df_nomatch.iterrows():\n",
    "#    print (i)\n",
    "    for state, fips_state in state_codes.items():\n",
    "        if fips_state == row.gisjoin[1:3]:\n",
    "            df_nomatch.at[i, 'state'] = state\n",
    "#            print (\" || row.gisjoin=\"+row.gisjoin[1:3]+\"|| fips_state = \"+fips_state)\n",
    "print (\"loop done.\")\n",
    "df_nomatch.head(5)"
   ]
  },
  {
   "cell_type": "code",
   "execution_count": null,
   "metadata": {},
   "outputs": [],
   "source": [
    "out_table = 'comm_re_blk'\n",
    "out_schema = 'kwaechte'\n",
    "if_exists_decision = 'append'\n",
    "df_nomatch.to_sql(out_table, con, schema=out_schema, if_exists=if_exists_decision)"
   ]
  },
  {
   "cell_type": "code",
   "execution_count": 1,
   "metadata": {},
   "outputs": [
    {
     "ename": "NameError",
     "evalue": "name 'df_nomatch' is not defined",
     "output_type": "error",
     "traceback": [
      "\u001b[0;31m---------------------------------------------------------------------------\u001b[0m",
      "\u001b[0;31mNameError\u001b[0m                                 Traceback (most recent call last)",
      "\u001b[0;32m<ipython-input-1-43a765db5df1>\u001b[0m in \u001b[0;36m<module>\u001b[0;34m()\u001b[0m\n\u001b[0;32m----> 1\u001b[0;31m \u001b[0;32mdel\u001b[0m \u001b[0mdf_nomatch\u001b[0m\u001b[0;34m\u001b[0m\u001b[0m\n\u001b[0m\u001b[1;32m      2\u001b[0m \u001b[0mprint\u001b[0m \u001b[0;34m(\u001b[0m\u001b[0;34m\"NO_MATCH dataframe deleted.\"\u001b[0m\u001b[0;34m)\u001b[0m\u001b[0;34m\u001b[0m\u001b[0m\n",
      "\u001b[0;31mNameError\u001b[0m: name 'df_nomatch' is not defined"
     ]
    }
   ],
   "source": [
    "del df_nomatch\n",
    "print (\"NO_MATCH dataframe deleted.\")"
   ]
  },
  {
   "cell_type": "code",
   "execution_count": 2,
   "metadata": {
    "scrolled": true
   },
   "outputs": [
    {
     "name": "stdout",
     "output_type": "stream",
     "text": [
      "reading table into dataframe\n"
     ]
    },
    {
     "data": {
      "text/html": [
       "<div>\n",
       "<style scoped>\n",
       "    .dataframe tbody tr th:only-of-type {\n",
       "        vertical-align: middle;\n",
       "    }\n",
       "\n",
       "    .dataframe tbody tr th {\n",
       "        vertical-align: top;\n",
       "    }\n",
       "\n",
       "    .dataframe thead th {\n",
       "        text-align: right;\n",
       "    }\n",
       "</style>\n",
       "<table border=\"1\" class=\"dataframe\">\n",
       "  <thead>\n",
       "    <tr style=\"text-align: right;\">\n",
       "      <th></th>\n",
       "      <th>bldgcount</th>\n",
       "      <th>gisjoin</th>\n",
       "      <th>sqft</th>\n",
       "      <th>gbs</th>\n",
       "      <th>doe_prototype</th>\n",
       "      <th>source</th>\n",
       "      <th>geoid</th>\n",
       "    </tr>\n",
       "  </thead>\n",
       "  <tbody>\n",
       "    <tr>\n",
       "      <th>11098670</th>\n",
       "      <td>0.0</td>\n",
       "      <td>G06007100103002171</td>\n",
       "      <td>0.0</td>\n",
       "      <td>Medical Office/Clinic</td>\n",
       "      <td>outpatient</td>\n",
       "      <td>hazus</td>\n",
       "      <td>06007100103002171</td>\n",
       "    </tr>\n",
       "    <tr>\n",
       "      <th>11098671</th>\n",
       "      <td>0.0</td>\n",
       "      <td>G06007100103002172</td>\n",
       "      <td>0.0</td>\n",
       "      <td>Medical Office/Clinic</td>\n",
       "      <td>outpatient</td>\n",
       "      <td>hazus</td>\n",
       "      <td>06007100103002172</td>\n",
       "    </tr>\n",
       "    <tr>\n",
       "      <th>11098672</th>\n",
       "      <td>0.0</td>\n",
       "      <td>G06007100103003008</td>\n",
       "      <td>0.0</td>\n",
       "      <td>Medical Office/Clinic</td>\n",
       "      <td>outpatient</td>\n",
       "      <td>hazus</td>\n",
       "      <td>06007100103003008</td>\n",
       "    </tr>\n",
       "    <tr>\n",
       "      <th>11098673</th>\n",
       "      <td>0.0</td>\n",
       "      <td>G06007100103004004</td>\n",
       "      <td>0.0</td>\n",
       "      <td>Medical Office/Clinic</td>\n",
       "      <td>outpatient</td>\n",
       "      <td>hazus</td>\n",
       "      <td>06007100103004004</td>\n",
       "    </tr>\n",
       "    <tr>\n",
       "      <th>11098674</th>\n",
       "      <td>0.0</td>\n",
       "      <td>G06007100103004005</td>\n",
       "      <td>0.0</td>\n",
       "      <td>Medical Office/Clinic</td>\n",
       "      <td>outpatient</td>\n",
       "      <td>hazus</td>\n",
       "      <td>06007100103004005</td>\n",
       "    </tr>\n",
       "  </tbody>\n",
       "</table>\n",
       "</div>"
      ],
      "text/plain": [
       "          bldgcount             gisjoin  sqft                    gbs  \\\n",
       "11098670        0.0  G06007100103002171   0.0  Medical Office/Clinic   \n",
       "11098671        0.0  G06007100103002172   0.0  Medical Office/Clinic   \n",
       "11098672        0.0  G06007100103003008   0.0  Medical Office/Clinic   \n",
       "11098673        0.0  G06007100103004004   0.0  Medical Office/Clinic   \n",
       "11098674        0.0  G06007100103004005   0.0  Medical Office/Clinic   \n",
       "\n",
       "         doe_prototype source              geoid  \n",
       "11098670    outpatient  hazus  06007100103002171  \n",
       "11098671    outpatient  hazus  06007100103002172  \n",
       "11098672    outpatient  hazus  06007100103003008  \n",
       "11098673    outpatient  hazus  06007100103004004  \n",
       "11098674    outpatient  hazus  06007100103004005  "
      ]
     },
     "execution_count": 2,
     "metadata": {},
     "output_type": "execute_result"
    }
   ],
   "source": [
    "#import modules needed\n",
    "import numpy \n",
    "import pandas as pd\n",
    "import requests\n",
    "from sqlalchemy import create_engine\n",
    "#import pixiedust\n",
    "\n",
    "#make postgres connection\n",
    "host = 'gispgdb.nrel.gov'\n",
    "dbase = 'dav-gis'\n",
    "user = 'kwaechte'\n",
    "pwd = 'steeltree18'\n",
    "con = create_engine('postgresql://{user}:{pwd}@{host}:5432/{dbase}'.format(host=host, dbase=dbase, user=user, pwd=pwd))\n",
    "\n",
    "# outpatient\n",
    "sql_outpatient = \"select * from costar.commercial_re_blk_gbs where doe_prototype = 'outpatient'\"\n",
    "print (\"reading table into dataframe\")\n",
    "df_outpatient = pd.read_sql(sql_outpatient, con)\n",
    "df_outpatient.tail(5)"
   ]
  },
  {
   "cell_type": "code",
   "execution_count": 4,
   "metadata": {},
   "outputs": [
    {
     "name": "stdout",
     "output_type": "stream",
     "text": [
      "OUTPATIENT. data received. starting loop.\n",
      "loop done.\n"
     ]
    },
    {
     "data": {
      "text/html": [
       "<div>\n",
       "<style scoped>\n",
       "    .dataframe tbody tr th:only-of-type {\n",
       "        vertical-align: middle;\n",
       "    }\n",
       "\n",
       "    .dataframe tbody tr th {\n",
       "        vertical-align: top;\n",
       "    }\n",
       "\n",
       "    .dataframe thead th {\n",
       "        text-align: right;\n",
       "    }\n",
       "</style>\n",
       "<table border=\"1\" class=\"dataframe\">\n",
       "  <thead>\n",
       "    <tr style=\"text-align: right;\">\n",
       "      <th></th>\n",
       "      <th>bldgcount</th>\n",
       "      <th>gisjoin</th>\n",
       "      <th>sqft</th>\n",
       "      <th>gbs</th>\n",
       "      <th>doe_prototype</th>\n",
       "      <th>source</th>\n",
       "      <th>geoid</th>\n",
       "      <th>state</th>\n",
       "    </tr>\n",
       "  </thead>\n",
       "  <tbody>\n",
       "    <tr>\n",
       "      <th>11098670</th>\n",
       "      <td>0.0</td>\n",
       "      <td>G06007100103002171</td>\n",
       "      <td>0.0</td>\n",
       "      <td>Medical Office/Clinic</td>\n",
       "      <td>outpatient</td>\n",
       "      <td>hazus</td>\n",
       "      <td>06007100103002171</td>\n",
       "      <td>CA</td>\n",
       "    </tr>\n",
       "    <tr>\n",
       "      <th>11098671</th>\n",
       "      <td>0.0</td>\n",
       "      <td>G06007100103002172</td>\n",
       "      <td>0.0</td>\n",
       "      <td>Medical Office/Clinic</td>\n",
       "      <td>outpatient</td>\n",
       "      <td>hazus</td>\n",
       "      <td>06007100103002172</td>\n",
       "      <td>CA</td>\n",
       "    </tr>\n",
       "    <tr>\n",
       "      <th>11098672</th>\n",
       "      <td>0.0</td>\n",
       "      <td>G06007100103003008</td>\n",
       "      <td>0.0</td>\n",
       "      <td>Medical Office/Clinic</td>\n",
       "      <td>outpatient</td>\n",
       "      <td>hazus</td>\n",
       "      <td>06007100103003008</td>\n",
       "      <td>CA</td>\n",
       "    </tr>\n",
       "    <tr>\n",
       "      <th>11098673</th>\n",
       "      <td>0.0</td>\n",
       "      <td>G06007100103004004</td>\n",
       "      <td>0.0</td>\n",
       "      <td>Medical Office/Clinic</td>\n",
       "      <td>outpatient</td>\n",
       "      <td>hazus</td>\n",
       "      <td>06007100103004004</td>\n",
       "      <td>CA</td>\n",
       "    </tr>\n",
       "    <tr>\n",
       "      <th>11098674</th>\n",
       "      <td>0.0</td>\n",
       "      <td>G06007100103004005</td>\n",
       "      <td>0.0</td>\n",
       "      <td>Medical Office/Clinic</td>\n",
       "      <td>outpatient</td>\n",
       "      <td>hazus</td>\n",
       "      <td>06007100103004005</td>\n",
       "      <td>CA</td>\n",
       "    </tr>\n",
       "  </tbody>\n",
       "</table>\n",
       "</div>"
      ],
      "text/plain": [
       "          bldgcount             gisjoin  sqft                    gbs  \\\n",
       "11098670        0.0  G06007100103002171   0.0  Medical Office/Clinic   \n",
       "11098671        0.0  G06007100103002172   0.0  Medical Office/Clinic   \n",
       "11098672        0.0  G06007100103003008   0.0  Medical Office/Clinic   \n",
       "11098673        0.0  G06007100103004004   0.0  Medical Office/Clinic   \n",
       "11098674        0.0  G06007100103004005   0.0  Medical Office/Clinic   \n",
       "\n",
       "         doe_prototype source              geoid state  \n",
       "11098670    outpatient  hazus  06007100103002171    CA  \n",
       "11098671    outpatient  hazus  06007100103002172    CA  \n",
       "11098672    outpatient  hazus  06007100103003008    CA  \n",
       "11098673    outpatient  hazus  06007100103004004    CA  \n",
       "11098674    outpatient  hazus  06007100103004005    CA  "
      ]
     },
     "execution_count": 4,
     "metadata": {},
     "output_type": "execute_result"
    }
   ],
   "source": [
    "print (\"OUTPATIENT. data received. starting loop.\")\n",
    "\n",
    "import numpy \n",
    "import pandas as pd\n",
    "import requests\n",
    "from sqlalchemy import create_engine\n",
    "#import pixiedust\n",
    "\n",
    "#make postgres connection\n",
    "host = 'gispgdb.nrel.gov'\n",
    "dbase = 'dav-gis'\n",
    "user = 'kwaechte'\n",
    "pwd = 'steeltree18'\n",
    "con = create_engine('postgresql://{user}:{pwd}@{host}:5432/{dbase}'.format(host=host, dbase=dbase, user=user, pwd=pwd))\n",
    "\n",
    "state_codes = {\n",
    "    'WA': '53', 'DE': '10', 'DC': '11', 'WI': '55', 'WV': '54', 'HI': '15',\n",
    "    'FL': '12', 'WY': '56', 'PR': '72', 'NJ': '34', 'NM': '35', 'TX': '48',\n",
    "    'LA': '22', 'NC': '37', 'ND': '38', 'NE': '31', 'TN': '47', 'NY': '36',\n",
    "    'PA': '42', 'AK': '02', 'NV': '32', 'NH': '33', 'VA': '51', 'CO': '08',\n",
    "    'CA': '06', 'AL': '01', 'AR': '05', 'VT': '50', 'IL': '17', 'GA': '13',\n",
    "    'IN': '18', 'IA': '19', 'MA': '25', 'AZ': '04', 'ID': '16', 'CT': '09',\n",
    "    'ME': '23', 'MD': '24', 'OK': '40', 'OH': '39', 'UT': '49', 'MO': '29',\n",
    "    'MN': '27', 'MI': '26', 'RI': '44', 'KS': '20', 'MT': '30', 'MS': '28',\n",
    "    'SC': '45', 'KY': '21', 'OR': '41', 'SD': '46'\n",
    "}\n",
    "\n",
    "for i, row in df_outpatient.iterrows():\n",
    "#    print (i)\n",
    "    for state, fips_state in state_codes.items():\n",
    "        if fips_state == row.gisjoin[1:3]:\n",
    "            df_outpatient.at[i, 'state'] = state\n",
    "#            print (\" || row.gisjoin=\"+row.gisjoin[1:3]+\"|| fips_state = \"+fips_state)\n",
    "print (\"loop done.\")\n",
    "df_outpatient.tail(5)"
   ]
  },
  {
   "cell_type": "code",
   "execution_count": 11,
   "metadata": {},
   "outputs": [
    {
     "name": "stdout",
     "output_type": "stream",
     "text": [
      "starting export\n",
      "Took 104.262373 minutes for dataframe export\n"
     ]
    }
   ],
   "source": [
    "### RESUME HERE!!!!\n",
    "import time\n",
    "import pandas as pd\n",
    "#from sqlalchemy import create engine\n",
    "print(\"starting export\")\n",
    "#make postgres connection\n",
    "host = 'gispgdb.nrel.gov'\n",
    "dbase = 'dav-gis'\n",
    "user = 'kwaechte'\n",
    "pwd = 'steeltree18'\n",
    "con = create_engine('postgresql://{user}:{pwd}@{host}:5432/{dbase}'.format(host=host, dbase=dbase, user=user, pwd=pwd))\n",
    "start = time.time()\n",
    "out_table = 'largeoffice'\n",
    "out_schema = 'kwaechte'\n",
    "if_exists_decision = 'replace'\n",
    "df_outpatient.to_sql(out_table, con, schema=out_schema, if_exists=if_exists_decision)\n",
    "end = time.time()\n",
    "print(\"Took %f minutes for dataframe export\" % ((end - start) / 60))"
   ]
  },
  {
   "cell_type": "code",
   "execution_count": 12,
   "metadata": {},
   "outputs": [
    {
     "name": "stdout",
     "output_type": "stream",
     "text": [
      "NO_MATCH dataframe deleted.\n"
     ]
    }
   ],
   "source": [
    "del df_outpatient\n",
    "print (\"outpatient dataframe deleted.\")"
   ]
  },
  {
   "cell_type": "code",
   "execution_count": 10,
   "metadata": {
    "scrolled": true
   },
   "outputs": [
    {
     "name": "stdout",
     "output_type": "stream",
     "text": [
      "reading table into dataframe\n"
     ]
    },
    {
     "data": {
      "text/html": [
       "<div>\n",
       "<style scoped>\n",
       "    .dataframe tbody tr th:only-of-type {\n",
       "        vertical-align: middle;\n",
       "    }\n",
       "\n",
       "    .dataframe tbody tr th {\n",
       "        vertical-align: top;\n",
       "    }\n",
       "\n",
       "    .dataframe thead th {\n",
       "        text-align: right;\n",
       "    }\n",
       "</style>\n",
       "<table border=\"1\" class=\"dataframe\">\n",
       "  <thead>\n",
       "    <tr style=\"text-align: right;\">\n",
       "      <th></th>\n",
       "      <th>bldgcount</th>\n",
       "      <th>gisjoin</th>\n",
       "      <th>sqft</th>\n",
       "      <th>gbs</th>\n",
       "      <th>doe_prototype</th>\n",
       "      <th>source</th>\n",
       "      <th>geoid</th>\n",
       "    </tr>\n",
       "  </thead>\n",
       "  <tbody>\n",
       "    <tr>\n",
       "      <th>11097810</th>\n",
       "      <td>0.0</td>\n",
       "      <td>G06007100104091225</td>\n",
       "      <td>0.0</td>\n",
       "      <td>General Services</td>\n",
       "      <td>large_office</td>\n",
       "      <td>hazus</td>\n",
       "      <td>06007100104091225</td>\n",
       "    </tr>\n",
       "    <tr>\n",
       "      <th>11097811</th>\n",
       "      <td>0.0</td>\n",
       "      <td>G06007100104091226</td>\n",
       "      <td>0.0</td>\n",
       "      <td>General Services</td>\n",
       "      <td>large_office</td>\n",
       "      <td>hazus</td>\n",
       "      <td>06007100104091226</td>\n",
       "    </tr>\n",
       "    <tr>\n",
       "      <th>11097812</th>\n",
       "      <td>0.0</td>\n",
       "      <td>G06007100104091227</td>\n",
       "      <td>0.0</td>\n",
       "      <td>General Services</td>\n",
       "      <td>large_office</td>\n",
       "      <td>hazus</td>\n",
       "      <td>06007100104091227</td>\n",
       "    </tr>\n",
       "    <tr>\n",
       "      <th>11097813</th>\n",
       "      <td>0.0</td>\n",
       "      <td>G06007100104091228</td>\n",
       "      <td>0.0</td>\n",
       "      <td>General Services</td>\n",
       "      <td>large_office</td>\n",
       "      <td>hazus</td>\n",
       "      <td>06007100104091228</td>\n",
       "    </tr>\n",
       "    <tr>\n",
       "      <th>11097814</th>\n",
       "      <td>0.0</td>\n",
       "      <td>G06007100104091229</td>\n",
       "      <td>0.0</td>\n",
       "      <td>General Services</td>\n",
       "      <td>large_office</td>\n",
       "      <td>hazus</td>\n",
       "      <td>06007100104091229</td>\n",
       "    </tr>\n",
       "  </tbody>\n",
       "</table>\n",
       "</div>"
      ],
      "text/plain": [
       "          bldgcount             gisjoin  sqft               gbs doe_prototype  \\\n",
       "11097810        0.0  G06007100104091225   0.0  General Services  large_office   \n",
       "11097811        0.0  G06007100104091226   0.0  General Services  large_office   \n",
       "11097812        0.0  G06007100104091227   0.0  General Services  large_office   \n",
       "11097813        0.0  G06007100104091228   0.0  General Services  large_office   \n",
       "11097814        0.0  G06007100104091229   0.0  General Services  large_office   \n",
       "\n",
       "         source              geoid  \n",
       "11097810  hazus  06007100104091225  \n",
       "11097811  hazus  06007100104091226  \n",
       "11097812  hazus  06007100104091227  \n",
       "11097813  hazus  06007100104091228  \n",
       "11097814  hazus  06007100104091229  "
      ]
     },
     "execution_count": 10,
     "metadata": {},
     "output_type": "execute_result"
    }
   ],
   "source": [
    "sql_largeoffice = \"select * from costar.commercial_re_blk_gbs where doe_prototype = 'large_office'\"\n",
    "print (\"reading table into dataframe\")\n",
    "df_largeoffice = pd.read_sql(sql_largeoffice, con)\n",
    "\n",
    "df_largeoffice.tail(5)"
   ]
  },
  {
   "cell_type": "code",
   "execution_count": 14,
   "metadata": {},
   "outputs": [
    {
     "name": "stdout",
     "output_type": "stream",
     "text": [
      "LARGE OFFICE. data received. starting loop.\n",
      "took 91.338141 minutes for state matching\n",
      "loop done.\n"
     ]
    },
    {
     "data": {
      "text/html": [
       "<div>\n",
       "<style scoped>\n",
       "    .dataframe tbody tr th:only-of-type {\n",
       "        vertical-align: middle;\n",
       "    }\n",
       "\n",
       "    .dataframe tbody tr th {\n",
       "        vertical-align: top;\n",
       "    }\n",
       "\n",
       "    .dataframe thead th {\n",
       "        text-align: right;\n",
       "    }\n",
       "</style>\n",
       "<table border=\"1\" class=\"dataframe\">\n",
       "  <thead>\n",
       "    <tr style=\"text-align: right;\">\n",
       "      <th></th>\n",
       "      <th>bldgcount</th>\n",
       "      <th>gisjoin</th>\n",
       "      <th>sqft</th>\n",
       "      <th>gbs</th>\n",
       "      <th>doe_prototype</th>\n",
       "      <th>source</th>\n",
       "      <th>geoid</th>\n",
       "      <th>state</th>\n",
       "    </tr>\n",
       "  </thead>\n",
       "  <tbody>\n",
       "    <tr>\n",
       "      <th>11097810</th>\n",
       "      <td>0.0</td>\n",
       "      <td>G06007100104091225</td>\n",
       "      <td>0.0</td>\n",
       "      <td>General Services</td>\n",
       "      <td>large_office</td>\n",
       "      <td>hazus</td>\n",
       "      <td>06007100104091225</td>\n",
       "      <td>CA</td>\n",
       "    </tr>\n",
       "    <tr>\n",
       "      <th>11097811</th>\n",
       "      <td>0.0</td>\n",
       "      <td>G06007100104091226</td>\n",
       "      <td>0.0</td>\n",
       "      <td>General Services</td>\n",
       "      <td>large_office</td>\n",
       "      <td>hazus</td>\n",
       "      <td>06007100104091226</td>\n",
       "      <td>CA</td>\n",
       "    </tr>\n",
       "    <tr>\n",
       "      <th>11097812</th>\n",
       "      <td>0.0</td>\n",
       "      <td>G06007100104091227</td>\n",
       "      <td>0.0</td>\n",
       "      <td>General Services</td>\n",
       "      <td>large_office</td>\n",
       "      <td>hazus</td>\n",
       "      <td>06007100104091227</td>\n",
       "      <td>CA</td>\n",
       "    </tr>\n",
       "    <tr>\n",
       "      <th>11097813</th>\n",
       "      <td>0.0</td>\n",
       "      <td>G06007100104091228</td>\n",
       "      <td>0.0</td>\n",
       "      <td>General Services</td>\n",
       "      <td>large_office</td>\n",
       "      <td>hazus</td>\n",
       "      <td>06007100104091228</td>\n",
       "      <td>CA</td>\n",
       "    </tr>\n",
       "    <tr>\n",
       "      <th>11097814</th>\n",
       "      <td>0.0</td>\n",
       "      <td>G06007100104091229</td>\n",
       "      <td>0.0</td>\n",
       "      <td>General Services</td>\n",
       "      <td>large_office</td>\n",
       "      <td>hazus</td>\n",
       "      <td>06007100104091229</td>\n",
       "      <td>CA</td>\n",
       "    </tr>\n",
       "  </tbody>\n",
       "</table>\n",
       "</div>"
      ],
      "text/plain": [
       "          bldgcount             gisjoin  sqft               gbs doe_prototype  \\\n",
       "11097810        0.0  G06007100104091225   0.0  General Services  large_office   \n",
       "11097811        0.0  G06007100104091226   0.0  General Services  large_office   \n",
       "11097812        0.0  G06007100104091227   0.0  General Services  large_office   \n",
       "11097813        0.0  G06007100104091228   0.0  General Services  large_office   \n",
       "11097814        0.0  G06007100104091229   0.0  General Services  large_office   \n",
       "\n",
       "         source              geoid state  \n",
       "11097810  hazus  06007100104091225    CA  \n",
       "11097811  hazus  06007100104091226    CA  \n",
       "11097812  hazus  06007100104091227    CA  \n",
       "11097813  hazus  06007100104091228    CA  \n",
       "11097814  hazus  06007100104091229    CA  "
      ]
     },
     "execution_count": 14,
     "metadata": {},
     "output_type": "execute_result"
    }
   ],
   "source": [
    "print (\"LARGE OFFICE. data received. starting loop.\")\n",
    "start = time.time()\n",
    "for i, row in df_largeoffice.iterrows():\n",
    "#    print (i)\n",
    "    for state, fips_state in state_codes.items():\n",
    "        if fips_state == row.gisjoin[1:3]:\n",
    "            df_largeoffice.at[i, 'state'] = state\n",
    "#            print (\" || row.gisjoin=\"+row.gisjoin[1:3]+\"|| fips_state = \"+fips_state)\n",
    "end = time.time()\n",
    "print (\"took %f minutes for state matching\" % ((end - start) / 60))\n",
    "print (\"loop done.\")\n",
    "df_largeoffice.tail(5)"
   ]
  },
  {
   "cell_type": "code",
   "execution_count": 16,
   "metadata": {},
   "outputs": [
    {
     "name": "stdout",
     "output_type": "stream",
     "text": [
      "Took 91.391836 minutes for dataframe export\n"
     ]
    }
   ],
   "source": [
    "import time\n",
    "import pandas as pd\n",
    "#from sqlalchemy import create engine\n",
    "\n",
    "#make postgres connection\n",
    "host = 'gispgdb.nrel.gov'\n",
    "dbase = 'dav-gis'\n",
    "user = 'kwaechte'\n",
    "pwd = 'steeltree18'\n",
    "con = create_engine('postgresql://{user}:{pwd}@{host}:5432/{dbase}'.format(host=host, dbase=dbase, user=user, pwd=pwd))\n",
    "start = time.time()\n",
    "out_table = 'real_largeoffice'\n",
    "out_schema = 'kwaechte'\n",
    "if_exists_decision = 'replace'\n",
    "df_largeoffice.to_sql(out_table, con, schema=out_schema, if_exists=if_exists_decision)\n",
    "end = time.time()\n",
    "print(\"Took %f minutes for dataframe export\" % ((end - start) / 60))"
   ]
  },
  {
   "cell_type": "code",
   "execution_count": 17,
   "metadata": {},
   "outputs": [
    {
     "name": "stdout",
     "output_type": "stream",
     "text": [
      "df_largeoffice deleted.\n"
     ]
    }
   ],
   "source": [
    "del df_largeoffice\n",
    "print(\"df_largeoffice deleted.\")"
   ]
  },
  {
   "cell_type": "code",
   "execution_count": 1,
   "metadata": {
    "scrolled": false
   },
   "outputs": [
    {
     "name": "stdout",
     "output_type": "stream",
     "text": [
      "1548704201.765991\n",
      "reading table into dataframe\n",
      "midrise_apartment. data received. starting loop.\n",
      "midpoint reached. took 38.530259 minutes.\n",
      "loop done.\n",
      "state matched. Took 14.705151 minutes.\n"
     ]
    },
    {
     "ename": "KeyboardInterrupt",
     "evalue": "",
     "output_type": "error",
     "traceback": [
      "\u001b[0;31m---------------------------------------------------------------------------\u001b[0m",
      "\u001b[0;31mKeyboardInterrupt\u001b[0m                         Traceback (most recent call last)",
      "\u001b[0;32m<ipython-input-1-0b95be9a1e3f>\u001b[0m in \u001b[0;36m<module>\u001b[0;34m()\u001b[0m\n\u001b[1;32m     42\u001b[0m \u001b[0mout_schema\u001b[0m \u001b[0;34m=\u001b[0m \u001b[0;34m'kwaechte'\u001b[0m\u001b[0;34m\u001b[0m\u001b[0m\n\u001b[1;32m     43\u001b[0m \u001b[0mif_exists_decision\u001b[0m \u001b[0;34m=\u001b[0m \u001b[0;34m'replace'\u001b[0m\u001b[0;34m\u001b[0m\u001b[0m\n\u001b[0;32m---> 44\u001b[0;31m \u001b[0mdf\u001b[0m\u001b[0;34m.\u001b[0m\u001b[0mto_sql\u001b[0m\u001b[0;34m(\u001b[0m\u001b[0mout_table\u001b[0m\u001b[0;34m,\u001b[0m \u001b[0mcon\u001b[0m\u001b[0;34m,\u001b[0m \u001b[0mschema\u001b[0m\u001b[0;34m=\u001b[0m\u001b[0mout_schema\u001b[0m\u001b[0;34m,\u001b[0m \u001b[0mif_exists\u001b[0m\u001b[0;34m=\u001b[0m\u001b[0mif_exists_decision\u001b[0m\u001b[0;34m)\u001b[0m\u001b[0;34m\u001b[0m\u001b[0m\n\u001b[0m\u001b[1;32m     45\u001b[0m \u001b[0;31m# df.to_csv(path_or_buf='/Users/kwaechte/Documents', sep=', ', na_rep='', float_format=None, columns=None, header=True, index=True, index_label=None, mode='w', encoding=None, compression=None, quoting=None, quotechar='\"', line_terminator=None, chunksize=None, tupleize_cols=None, date_format=None, doublequote=True, escapechar=None, decimal='.')\u001b[0m\u001b[0;34m\u001b[0m\u001b[0;34m\u001b[0m\u001b[0m\n\u001b[1;32m     46\u001b[0m \u001b[0mend\u001b[0m \u001b[0;34m=\u001b[0m \u001b[0mtime\u001b[0m\u001b[0;34m.\u001b[0m\u001b[0mtime\u001b[0m\u001b[0;34m(\u001b[0m\u001b[0;34m)\u001b[0m\u001b[0;34m\u001b[0m\u001b[0m\n",
      "\u001b[0;32m~/anaconda3/lib/python3.7/site-packages/pandas/core/generic.py\u001b[0m in \u001b[0;36mto_sql\u001b[0;34m(self, name, con, schema, if_exists, index, index_label, chunksize, dtype)\u001b[0m\n\u001b[1;32m   2128\u001b[0m         sql.to_sql(self, name, con, schema=schema, if_exists=if_exists,\n\u001b[1;32m   2129\u001b[0m                    \u001b[0mindex\u001b[0m\u001b[0;34m=\u001b[0m\u001b[0mindex\u001b[0m\u001b[0;34m,\u001b[0m \u001b[0mindex_label\u001b[0m\u001b[0;34m=\u001b[0m\u001b[0mindex_label\u001b[0m\u001b[0;34m,\u001b[0m \u001b[0mchunksize\u001b[0m\u001b[0;34m=\u001b[0m\u001b[0mchunksize\u001b[0m\u001b[0;34m,\u001b[0m\u001b[0;34m\u001b[0m\u001b[0m\n\u001b[0;32m-> 2130\u001b[0;31m                    dtype=dtype)\n\u001b[0m\u001b[1;32m   2131\u001b[0m \u001b[0;34m\u001b[0m\u001b[0m\n\u001b[1;32m   2132\u001b[0m     def to_pickle(self, path, compression='infer',\n",
      "\u001b[0;32m~/anaconda3/lib/python3.7/site-packages/pandas/io/sql.py\u001b[0m in \u001b[0;36mto_sql\u001b[0;34m(frame, name, con, schema, if_exists, index, index_label, chunksize, dtype)\u001b[0m\n\u001b[1;32m    448\u001b[0m     pandas_sql.to_sql(frame, name, if_exists=if_exists, index=index,\n\u001b[1;32m    449\u001b[0m                       \u001b[0mindex_label\u001b[0m\u001b[0;34m=\u001b[0m\u001b[0mindex_label\u001b[0m\u001b[0;34m,\u001b[0m \u001b[0mschema\u001b[0m\u001b[0;34m=\u001b[0m\u001b[0mschema\u001b[0m\u001b[0;34m,\u001b[0m\u001b[0;34m\u001b[0m\u001b[0m\n\u001b[0;32m--> 450\u001b[0;31m                       chunksize=chunksize, dtype=dtype)\n\u001b[0m\u001b[1;32m    451\u001b[0m \u001b[0;34m\u001b[0m\u001b[0m\n\u001b[1;32m    452\u001b[0m \u001b[0;34m\u001b[0m\u001b[0m\n",
      "\u001b[0;32m~/anaconda3/lib/python3.7/site-packages/pandas/io/sql.py\u001b[0m in \u001b[0;36mto_sql\u001b[0;34m(self, frame, name, if_exists, index, index_label, schema, chunksize, dtype)\u001b[0m\n\u001b[1;32m   1125\u001b[0m                          schema=schema, dtype=dtype)\n\u001b[1;32m   1126\u001b[0m         \u001b[0mtable\u001b[0m\u001b[0;34m.\u001b[0m\u001b[0mcreate\u001b[0m\u001b[0;34m(\u001b[0m\u001b[0;34m)\u001b[0m\u001b[0;34m\u001b[0m\u001b[0m\n\u001b[0;32m-> 1127\u001b[0;31m         \u001b[0mtable\u001b[0m\u001b[0;34m.\u001b[0m\u001b[0minsert\u001b[0m\u001b[0;34m(\u001b[0m\u001b[0mchunksize\u001b[0m\u001b[0;34m)\u001b[0m\u001b[0;34m\u001b[0m\u001b[0m\n\u001b[0m\u001b[1;32m   1128\u001b[0m         \u001b[0;32mif\u001b[0m \u001b[0;34m(\u001b[0m\u001b[0;32mnot\u001b[0m \u001b[0mname\u001b[0m\u001b[0;34m.\u001b[0m\u001b[0misdigit\u001b[0m\u001b[0;34m(\u001b[0m\u001b[0;34m)\u001b[0m \u001b[0;32mand\u001b[0m \u001b[0;32mnot\u001b[0m \u001b[0mname\u001b[0m\u001b[0;34m.\u001b[0m\u001b[0mislower\u001b[0m\u001b[0;34m(\u001b[0m\u001b[0;34m)\u001b[0m\u001b[0;34m)\u001b[0m\u001b[0;34m:\u001b[0m\u001b[0;34m\u001b[0m\u001b[0m\n\u001b[1;32m   1129\u001b[0m             \u001b[0;31m# check for potentially case sensitivity issues (GH7815)\u001b[0m\u001b[0;34m\u001b[0m\u001b[0;34m\u001b[0m\u001b[0m\n",
      "\u001b[0;32m~/anaconda3/lib/python3.7/site-packages/pandas/io/sql.py\u001b[0m in \u001b[0;36minsert\u001b[0;34m(self, chunksize)\u001b[0m\n\u001b[1;32m    639\u001b[0m \u001b[0;34m\u001b[0m\u001b[0m\n\u001b[1;32m    640\u001b[0m                 \u001b[0mchunk_iter\u001b[0m \u001b[0;34m=\u001b[0m \u001b[0mzip\u001b[0m\u001b[0;34m(\u001b[0m\u001b[0;34m*\u001b[0m\u001b[0;34m[\u001b[0m\u001b[0marr\u001b[0m\u001b[0;34m[\u001b[0m\u001b[0mstart_i\u001b[0m\u001b[0;34m:\u001b[0m\u001b[0mend_i\u001b[0m\u001b[0;34m]\u001b[0m \u001b[0;32mfor\u001b[0m \u001b[0marr\u001b[0m \u001b[0;32min\u001b[0m \u001b[0mdata_list\u001b[0m\u001b[0;34m]\u001b[0m\u001b[0;34m)\u001b[0m\u001b[0;34m\u001b[0m\u001b[0m\n\u001b[0;32m--> 641\u001b[0;31m                 \u001b[0mself\u001b[0m\u001b[0;34m.\u001b[0m\u001b[0m_execute_insert\u001b[0m\u001b[0;34m(\u001b[0m\u001b[0mconn\u001b[0m\u001b[0;34m,\u001b[0m \u001b[0mkeys\u001b[0m\u001b[0;34m,\u001b[0m \u001b[0mchunk_iter\u001b[0m\u001b[0;34m)\u001b[0m\u001b[0;34m\u001b[0m\u001b[0m\n\u001b[0m\u001b[1;32m    642\u001b[0m \u001b[0;34m\u001b[0m\u001b[0m\n\u001b[1;32m    643\u001b[0m     def _query_iterator(self, result, chunksize, columns, coerce_float=True,\n",
      "\u001b[0;32m~/anaconda3/lib/python3.7/site-packages/pandas/io/sql.py\u001b[0m in \u001b[0;36m_execute_insert\u001b[0;34m(self, conn, keys, data_iter)\u001b[0m\n\u001b[1;32m    614\u001b[0m     \u001b[0;32mdef\u001b[0m \u001b[0m_execute_insert\u001b[0m\u001b[0;34m(\u001b[0m\u001b[0mself\u001b[0m\u001b[0;34m,\u001b[0m \u001b[0mconn\u001b[0m\u001b[0;34m,\u001b[0m \u001b[0mkeys\u001b[0m\u001b[0;34m,\u001b[0m \u001b[0mdata_iter\u001b[0m\u001b[0;34m)\u001b[0m\u001b[0;34m:\u001b[0m\u001b[0;34m\u001b[0m\u001b[0m\n\u001b[1;32m    615\u001b[0m         \u001b[0mdata\u001b[0m \u001b[0;34m=\u001b[0m \u001b[0;34m[\u001b[0m\u001b[0;34m{\u001b[0m\u001b[0mk\u001b[0m\u001b[0;34m:\u001b[0m \u001b[0mv\u001b[0m \u001b[0;32mfor\u001b[0m \u001b[0mk\u001b[0m\u001b[0;34m,\u001b[0m \u001b[0mv\u001b[0m \u001b[0;32min\u001b[0m \u001b[0mzip\u001b[0m\u001b[0;34m(\u001b[0m\u001b[0mkeys\u001b[0m\u001b[0;34m,\u001b[0m \u001b[0mrow\u001b[0m\u001b[0;34m)\u001b[0m\u001b[0;34m}\u001b[0m \u001b[0;32mfor\u001b[0m \u001b[0mrow\u001b[0m \u001b[0;32min\u001b[0m \u001b[0mdata_iter\u001b[0m\u001b[0;34m]\u001b[0m\u001b[0;34m\u001b[0m\u001b[0m\n\u001b[0;32m--> 616\u001b[0;31m         \u001b[0mconn\u001b[0m\u001b[0;34m.\u001b[0m\u001b[0mexecute\u001b[0m\u001b[0;34m(\u001b[0m\u001b[0mself\u001b[0m\u001b[0;34m.\u001b[0m\u001b[0minsert_statement\u001b[0m\u001b[0;34m(\u001b[0m\u001b[0;34m)\u001b[0m\u001b[0;34m,\u001b[0m \u001b[0mdata\u001b[0m\u001b[0;34m)\u001b[0m\u001b[0;34m\u001b[0m\u001b[0m\n\u001b[0m\u001b[1;32m    617\u001b[0m \u001b[0;34m\u001b[0m\u001b[0m\n\u001b[1;32m    618\u001b[0m     \u001b[0;32mdef\u001b[0m \u001b[0minsert\u001b[0m\u001b[0;34m(\u001b[0m\u001b[0mself\u001b[0m\u001b[0;34m,\u001b[0m \u001b[0mchunksize\u001b[0m\u001b[0;34m=\u001b[0m\u001b[0;32mNone\u001b[0m\u001b[0;34m)\u001b[0m\u001b[0;34m:\u001b[0m\u001b[0;34m\u001b[0m\u001b[0m\n",
      "\u001b[0;32m~/anaconda3/lib/python3.7/site-packages/sqlalchemy/engine/base.py\u001b[0m in \u001b[0;36mexecute\u001b[0;34m(self, object, *multiparams, **params)\u001b[0m\n\u001b[1;32m    946\u001b[0m             \u001b[0;32mraise\u001b[0m \u001b[0mexc\u001b[0m\u001b[0;34m.\u001b[0m\u001b[0mObjectNotExecutableError\u001b[0m\u001b[0;34m(\u001b[0m\u001b[0mobject\u001b[0m\u001b[0;34m)\u001b[0m\u001b[0;34m\u001b[0m\u001b[0m\n\u001b[1;32m    947\u001b[0m         \u001b[0;32melse\u001b[0m\u001b[0;34m:\u001b[0m\u001b[0;34m\u001b[0m\u001b[0m\n\u001b[0;32m--> 948\u001b[0;31m             \u001b[0;32mreturn\u001b[0m \u001b[0mmeth\u001b[0m\u001b[0;34m(\u001b[0m\u001b[0mself\u001b[0m\u001b[0;34m,\u001b[0m \u001b[0mmultiparams\u001b[0m\u001b[0;34m,\u001b[0m \u001b[0mparams\u001b[0m\u001b[0;34m)\u001b[0m\u001b[0;34m\u001b[0m\u001b[0m\n\u001b[0m\u001b[1;32m    949\u001b[0m \u001b[0;34m\u001b[0m\u001b[0m\n\u001b[1;32m    950\u001b[0m     \u001b[0;32mdef\u001b[0m \u001b[0m_execute_function\u001b[0m\u001b[0;34m(\u001b[0m\u001b[0mself\u001b[0m\u001b[0;34m,\u001b[0m \u001b[0mfunc\u001b[0m\u001b[0;34m,\u001b[0m \u001b[0mmultiparams\u001b[0m\u001b[0;34m,\u001b[0m \u001b[0mparams\u001b[0m\u001b[0;34m)\u001b[0m\u001b[0;34m:\u001b[0m\u001b[0;34m\u001b[0m\u001b[0m\n",
      "\u001b[0;32m~/anaconda3/lib/python3.7/site-packages/sqlalchemy/sql/elements.py\u001b[0m in \u001b[0;36m_execute_on_connection\u001b[0;34m(self, connection, multiparams, params)\u001b[0m\n\u001b[1;32m    267\u001b[0m     \u001b[0;32mdef\u001b[0m \u001b[0m_execute_on_connection\u001b[0m\u001b[0;34m(\u001b[0m\u001b[0mself\u001b[0m\u001b[0;34m,\u001b[0m \u001b[0mconnection\u001b[0m\u001b[0;34m,\u001b[0m \u001b[0mmultiparams\u001b[0m\u001b[0;34m,\u001b[0m \u001b[0mparams\u001b[0m\u001b[0;34m)\u001b[0m\u001b[0;34m:\u001b[0m\u001b[0;34m\u001b[0m\u001b[0m\n\u001b[1;32m    268\u001b[0m         \u001b[0;32mif\u001b[0m \u001b[0mself\u001b[0m\u001b[0;34m.\u001b[0m\u001b[0msupports_execution\u001b[0m\u001b[0;34m:\u001b[0m\u001b[0;34m\u001b[0m\u001b[0m\n\u001b[0;32m--> 269\u001b[0;31m             \u001b[0;32mreturn\u001b[0m \u001b[0mconnection\u001b[0m\u001b[0;34m.\u001b[0m\u001b[0m_execute_clauseelement\u001b[0m\u001b[0;34m(\u001b[0m\u001b[0mself\u001b[0m\u001b[0;34m,\u001b[0m \u001b[0mmultiparams\u001b[0m\u001b[0;34m,\u001b[0m \u001b[0mparams\u001b[0m\u001b[0;34m)\u001b[0m\u001b[0;34m\u001b[0m\u001b[0m\n\u001b[0m\u001b[1;32m    270\u001b[0m         \u001b[0;32melse\u001b[0m\u001b[0;34m:\u001b[0m\u001b[0;34m\u001b[0m\u001b[0m\n\u001b[1;32m    271\u001b[0m             \u001b[0;32mraise\u001b[0m \u001b[0mexc\u001b[0m\u001b[0;34m.\u001b[0m\u001b[0mObjectNotExecutableError\u001b[0m\u001b[0;34m(\u001b[0m\u001b[0mself\u001b[0m\u001b[0;34m)\u001b[0m\u001b[0;34m\u001b[0m\u001b[0m\n",
      "\u001b[0;32m~/anaconda3/lib/python3.7/site-packages/sqlalchemy/engine/base.py\u001b[0m in \u001b[0;36m_execute_clauseelement\u001b[0;34m(self, elem, multiparams, params)\u001b[0m\n\u001b[1;32m   1058\u001b[0m             \u001b[0mcompiled_sql\u001b[0m\u001b[0;34m,\u001b[0m\u001b[0;34m\u001b[0m\u001b[0m\n\u001b[1;32m   1059\u001b[0m             \u001b[0mdistilled_params\u001b[0m\u001b[0;34m,\u001b[0m\u001b[0;34m\u001b[0m\u001b[0m\n\u001b[0;32m-> 1060\u001b[0;31m             \u001b[0mcompiled_sql\u001b[0m\u001b[0;34m,\u001b[0m \u001b[0mdistilled_params\u001b[0m\u001b[0;34m\u001b[0m\u001b[0m\n\u001b[0m\u001b[1;32m   1061\u001b[0m         )\n\u001b[1;32m   1062\u001b[0m         \u001b[0;32mif\u001b[0m \u001b[0mself\u001b[0m\u001b[0;34m.\u001b[0m\u001b[0m_has_events\u001b[0m \u001b[0;32mor\u001b[0m \u001b[0mself\u001b[0m\u001b[0;34m.\u001b[0m\u001b[0mengine\u001b[0m\u001b[0;34m.\u001b[0m\u001b[0m_has_events\u001b[0m\u001b[0;34m:\u001b[0m\u001b[0;34m\u001b[0m\u001b[0m\n",
      "\u001b[0;32m~/anaconda3/lib/python3.7/site-packages/sqlalchemy/engine/base.py\u001b[0m in \u001b[0;36m_execute_context\u001b[0;34m(self, dialect, constructor, statement, parameters, *args)\u001b[0m\n\u001b[1;32m   1198\u001b[0m                 \u001b[0mparameters\u001b[0m\u001b[0;34m,\u001b[0m\u001b[0;34m\u001b[0m\u001b[0m\n\u001b[1;32m   1199\u001b[0m                 \u001b[0mcursor\u001b[0m\u001b[0;34m,\u001b[0m\u001b[0;34m\u001b[0m\u001b[0m\n\u001b[0;32m-> 1200\u001b[0;31m                 context)\n\u001b[0m\u001b[1;32m   1201\u001b[0m \u001b[0;34m\u001b[0m\u001b[0m\n\u001b[1;32m   1202\u001b[0m         \u001b[0;32mif\u001b[0m \u001b[0mself\u001b[0m\u001b[0;34m.\u001b[0m\u001b[0m_has_events\u001b[0m \u001b[0;32mor\u001b[0m \u001b[0mself\u001b[0m\u001b[0;34m.\u001b[0m\u001b[0mengine\u001b[0m\u001b[0;34m.\u001b[0m\u001b[0m_has_events\u001b[0m\u001b[0;34m:\u001b[0m\u001b[0;34m\u001b[0m\u001b[0m\n",
      "\u001b[0;32m~/anaconda3/lib/python3.7/site-packages/sqlalchemy/engine/base.py\u001b[0m in \u001b[0;36m_handle_dbapi_exception\u001b[0;34m(self, e, statement, parameters, cursor, context)\u001b[0m\n\u001b[1;32m   1414\u001b[0m                 )\n\u001b[1;32m   1415\u001b[0m             \u001b[0;32melse\u001b[0m\u001b[0;34m:\u001b[0m\u001b[0;34m\u001b[0m\u001b[0m\n\u001b[0;32m-> 1416\u001b[0;31m                 \u001b[0mutil\u001b[0m\u001b[0;34m.\u001b[0m\u001b[0mreraise\u001b[0m\u001b[0;34m(\u001b[0m\u001b[0;34m*\u001b[0m\u001b[0mexc_info\u001b[0m\u001b[0;34m)\u001b[0m\u001b[0;34m\u001b[0m\u001b[0m\n\u001b[0m\u001b[1;32m   1417\u001b[0m \u001b[0;34m\u001b[0m\u001b[0m\n\u001b[1;32m   1418\u001b[0m         \u001b[0;32mfinally\u001b[0m\u001b[0;34m:\u001b[0m\u001b[0;34m\u001b[0m\u001b[0m\n",
      "\u001b[0;32m~/anaconda3/lib/python3.7/site-packages/sqlalchemy/util/compat.py\u001b[0m in \u001b[0;36mreraise\u001b[0;34m(tp, value, tb, cause)\u001b[0m\n\u001b[1;32m    247\u001b[0m         \u001b[0;32mif\u001b[0m \u001b[0mvalue\u001b[0m\u001b[0;34m.\u001b[0m\u001b[0m__traceback__\u001b[0m \u001b[0;32mis\u001b[0m \u001b[0;32mnot\u001b[0m \u001b[0mtb\u001b[0m\u001b[0;34m:\u001b[0m\u001b[0;34m\u001b[0m\u001b[0m\n\u001b[1;32m    248\u001b[0m             \u001b[0;32mraise\u001b[0m \u001b[0mvalue\u001b[0m\u001b[0;34m.\u001b[0m\u001b[0mwith_traceback\u001b[0m\u001b[0;34m(\u001b[0m\u001b[0mtb\u001b[0m\u001b[0;34m)\u001b[0m\u001b[0;34m\u001b[0m\u001b[0m\n\u001b[0;32m--> 249\u001b[0;31m         \u001b[0;32mraise\u001b[0m \u001b[0mvalue\u001b[0m\u001b[0;34m\u001b[0m\u001b[0m\n\u001b[0m\u001b[1;32m    250\u001b[0m \u001b[0;34m\u001b[0m\u001b[0m\n\u001b[1;32m    251\u001b[0m \u001b[0;32melse\u001b[0m\u001b[0;34m:\u001b[0m\u001b[0;34m\u001b[0m\u001b[0m\n",
      "\u001b[0;32m~/anaconda3/lib/python3.7/site-packages/sqlalchemy/engine/base.py\u001b[0m in \u001b[0;36m_execute_context\u001b[0;34m(self, dialect, constructor, statement, parameters, *args)\u001b[0m\n\u001b[1;32m   1168\u001b[0m                         \u001b[0mstatement\u001b[0m\u001b[0;34m,\u001b[0m\u001b[0;34m\u001b[0m\u001b[0m\n\u001b[1;32m   1169\u001b[0m                         \u001b[0mparameters\u001b[0m\u001b[0;34m,\u001b[0m\u001b[0;34m\u001b[0m\u001b[0m\n\u001b[0;32m-> 1170\u001b[0;31m                         context)\n\u001b[0m\u001b[1;32m   1171\u001b[0m             \u001b[0;32melif\u001b[0m \u001b[0;32mnot\u001b[0m \u001b[0mparameters\u001b[0m \u001b[0;32mand\u001b[0m \u001b[0mcontext\u001b[0m\u001b[0;34m.\u001b[0m\u001b[0mno_parameters\u001b[0m\u001b[0;34m:\u001b[0m\u001b[0;34m\u001b[0m\u001b[0m\n\u001b[1;32m   1172\u001b[0m                 \u001b[0;32mif\u001b[0m \u001b[0mself\u001b[0m\u001b[0;34m.\u001b[0m\u001b[0mdialect\u001b[0m\u001b[0;34m.\u001b[0m\u001b[0m_has_events\u001b[0m\u001b[0;34m:\u001b[0m\u001b[0;34m\u001b[0m\u001b[0m\n",
      "\u001b[0;32m~/anaconda3/lib/python3.7/site-packages/sqlalchemy/dialects/postgresql/psycopg2.py\u001b[0m in \u001b[0;36mdo_executemany\u001b[0;34m(self, cursor, statement, parameters, context)\u001b[0m\n\u001b[1;32m    681\u001b[0m             \u001b[0mextras\u001b[0m\u001b[0;34m.\u001b[0m\u001b[0mexecute_batch\u001b[0m\u001b[0;34m(\u001b[0m\u001b[0mcursor\u001b[0m\u001b[0;34m,\u001b[0m \u001b[0mstatement\u001b[0m\u001b[0;34m,\u001b[0m \u001b[0mparameters\u001b[0m\u001b[0;34m)\u001b[0m\u001b[0;34m\u001b[0m\u001b[0m\n\u001b[1;32m    682\u001b[0m         \u001b[0;32melse\u001b[0m\u001b[0;34m:\u001b[0m\u001b[0;34m\u001b[0m\u001b[0m\n\u001b[0;32m--> 683\u001b[0;31m             \u001b[0mcursor\u001b[0m\u001b[0;34m.\u001b[0m\u001b[0mexecutemany\u001b[0m\u001b[0;34m(\u001b[0m\u001b[0mstatement\u001b[0m\u001b[0;34m,\u001b[0m \u001b[0mparameters\u001b[0m\u001b[0;34m)\u001b[0m\u001b[0;34m\u001b[0m\u001b[0m\n\u001b[0m\u001b[1;32m    684\u001b[0m \u001b[0;34m\u001b[0m\u001b[0m\n\u001b[1;32m    685\u001b[0m     \u001b[0;34m@\u001b[0m\u001b[0mutil\u001b[0m\u001b[0;34m.\u001b[0m\u001b[0mmemoized_instancemethod\u001b[0m\u001b[0;34m\u001b[0m\u001b[0m\n",
      "\u001b[0;32m~/anaconda3/lib/python3.7/encodings/utf_8.py\u001b[0m in \u001b[0;36mdecode\u001b[0;34m(input, errors)\u001b[0m\n\u001b[1;32m     13\u001b[0m \u001b[0mencode\u001b[0m \u001b[0;34m=\u001b[0m \u001b[0mcodecs\u001b[0m\u001b[0;34m.\u001b[0m\u001b[0mutf_8_encode\u001b[0m\u001b[0;34m\u001b[0m\u001b[0m\n\u001b[1;32m     14\u001b[0m \u001b[0;34m\u001b[0m\u001b[0m\n\u001b[0;32m---> 15\u001b[0;31m \u001b[0;32mdef\u001b[0m \u001b[0mdecode\u001b[0m\u001b[0;34m(\u001b[0m\u001b[0minput\u001b[0m\u001b[0;34m,\u001b[0m \u001b[0merrors\u001b[0m\u001b[0;34m=\u001b[0m\u001b[0;34m'strict'\u001b[0m\u001b[0;34m)\u001b[0m\u001b[0;34m:\u001b[0m\u001b[0;34m\u001b[0m\u001b[0m\n\u001b[0m\u001b[1;32m     16\u001b[0m     \u001b[0;32mreturn\u001b[0m \u001b[0mcodecs\u001b[0m\u001b[0;34m.\u001b[0m\u001b[0mutf_8_decode\u001b[0m\u001b[0;34m(\u001b[0m\u001b[0minput\u001b[0m\u001b[0;34m,\u001b[0m \u001b[0merrors\u001b[0m\u001b[0;34m,\u001b[0m \u001b[0;32mTrue\u001b[0m\u001b[0;34m)\u001b[0m\u001b[0;34m\u001b[0m\u001b[0m\n\u001b[1;32m     17\u001b[0m \u001b[0;34m\u001b[0m\u001b[0m\n",
      "\u001b[0;31mKeyboardInterrupt\u001b[0m: "
     ]
    }
   ],
   "source": [
    "# midrise_apartment\n",
    "import time \n",
    "import pandas as pd\n",
    "from sqlalchemy import create_engine \n",
    "#make postgres connection\n",
    "host = 'gispgdb.nrel.gov'\n",
    "dbase = 'dav-gis'\n",
    "user = 'kwaechte'\n",
    "pwd = 'steeltree18'\n",
    "con = create_engine('postgresql://{user}:{pwd}@{host}:5432/{dbase}'.format(host=host, dbase=dbase, user=user, pwd=pwd))\n",
    "\n",
    "doe_prototype = 'midrise_apartment'\n",
    "\n",
    "start = time.time()\n",
    "print(start)\n",
    "sql = \"select * from costar.commercial_re_blk_gbs where doe_prototype = '\"+doe_prototype+\"' and bldgcount > 0 and sqft > 0\"\n",
    "\n",
    "print (\"reading table into dataframe\")\n",
    "df = pd.read_sql(sql, con)\n",
    "print (doe_prototype+\". data received. starting loop.\")\n",
    "state_codes = {\n",
    "    'WA': '53', 'DE': '10', 'DC': '11', 'WI': '55', 'WV': '54', 'HI': '15',\n",
    "    'FL': '12', 'WY': '56', 'PR': '72', 'NJ': '34', 'NM': '35', 'TX': '48',\n",
    "    'LA': '22', 'NC': '37', 'ND': '38', 'NE': '31', 'TN': '47', 'NY': '36',\n",
    "    'PA': '42', 'AK': '02', 'NV': '32', 'NH': '33', 'VA': '51', 'CO': '08',\n",
    "    'CA': '06', 'AL': '01', 'AR': '05', 'VT': '50', 'IL': '17', 'GA': '13',\n",
    "    'IN': '18', 'IA': '19', 'MA': '25', 'AZ': '04', 'ID': '16', 'CT': '09',\n",
    "    'ME': '23', 'MD': '24', 'OK': '40', 'OH': '39', 'UT': '49', 'MO': '29',\n",
    "    'MN': '27', 'MI': '26', 'RI': '44', 'KS': '20', 'MT': '30', 'MS': '28',\n",
    "    'SC': '45', 'KY': '21', 'OR': '41', 'SD': '46'\n",
    "}\n",
    "midpoint1 = time.time()\n",
    "print(\"midpoint reached. took %f minutes.\" % ((midpoint1 - start) / 60))\n",
    "for i, row in df.iterrows():\n",
    "    for state, fips_state in state_codes.items():\n",
    "        if fips_state == row.gisjoin[1:3]:\n",
    "            df.at[i, 'state'] = state\n",
    "print (\"loop done.\")\n",
    "midpoint2 = time.time()\n",
    "print(\"state matched. Took %f minutes.\" % ((midpoint2 - midpoint1) / 60))\n",
    "df.to_csv(path_or_buf='/Users/kwaechte/Documents/cleap/midrise_apartment.csv', sep=',', na_rep='', float_format=None, columns=None, header=True, index=True, index_label=None, mode='w', encoding=None, compression=None, quoting=None, quotechar='\"', line_terminator='\\n', chunksize=None, date_format=None, doublequote=True, escapechar=None, decimal='.')\n",
    "end = time.time()\n",
    "print(\"took %f minutes for pg export\" % ((end - midpoint2) / 60))\n"
   ]
  },
  {
   "cell_type": "code",
   "execution_count": 6,
   "metadata": {},
   "outputs": [
    {
     "name": "stdout",
     "output_type": "stream",
     "text": [
      "1548782077.877929\n",
      "reading table into dataframe\n",
      "large_office. data received. starting loop.\n",
      "midpoint reached. took 76.945706 minutes.\n",
      "loop done.\n",
      "state matched. Took 1.340002 minutes.\n",
      "took 0.010993 minutes for csv export\n"
     ]
    }
   ],
   "source": [
    "import time \n",
    "import pandas as pd\n",
    "from sqlalchemy import create_engine \n",
    "#make postgres connection\n",
    "host = 'gispgdb.nrel.gov'\n",
    "dbase = 'dav-gis'\n",
    "user = 'kwaechte'\n",
    "pwd = 'steeltree18'\n",
    "con = create_engine('postgresql://{user}:{pwd}@{host}:5432/{dbase}'.format(host=host, dbase=dbase, user=user, pwd=pwd))\n",
    "\n",
    "doe_prototype = 'large_office'\n",
    "\n",
    "start = time.time()\n",
    "print(start)\n",
    "sql = \"select * from costar.commercial_re_blk_gbs where doe_prototype = '\"+doe_prototype+\"' and sqft > 0\"\n",
    "\n",
    "print (\"reading table into dataframe\")\n",
    "df = pd.read_sql(sql, con)\n",
    "print (doe_prototype+\". data received. starting loop.\")\n",
    "state_codes = {\n",
    "    'WA': '53', 'DE': '10', 'DC': '11', 'WI': '55', 'WV': '54', 'HI': '15',\n",
    "    'FL': '12', 'WY': '56', 'PR': '72', 'NJ': '34', 'NM': '35', 'TX': '48',\n",
    "    'LA': '22', 'NC': '37', 'ND': '38', 'NE': '31', 'TN': '47', 'NY': '36',\n",
    "    'PA': '42', 'AK': '02', 'NV': '32', 'NH': '33', 'VA': '51', 'CO': '08',\n",
    "    'CA': '06', 'AL': '01', 'AR': '05', 'VT': '50', 'IL': '17', 'GA': '13',\n",
    "    'IN': '18', 'IA': '19', 'MA': '25', 'AZ': '04', 'ID': '16', 'CT': '09',\n",
    "    'ME': '23', 'MD': '24', 'OK': '40', 'OH': '39', 'UT': '49', 'MO': '29',\n",
    "    'MN': '27', 'MI': '26', 'RI': '44', 'KS': '20', 'MT': '30', 'MS': '28',\n",
    "    'SC': '45', 'KY': '21', 'OR': '41', 'SD': '46'\n",
    "}\n",
    "midpoint1 = time.time()\n",
    "print(\"midpoint reached. took %f minutes.\" % ((midpoint1 - start) / 60))\n",
    "for i, row in df.iterrows():\n",
    "    for state, fips_state in state_codes.items():\n",
    "        if fips_state == row.gisjoin[1:3]:\n",
    "            df.at[i, 'state'] = state\n",
    "print (\"loop done.\")\n",
    "midpoint2 = time.time()\n",
    "print(\"state matched. Took %f minutes.\" % ((midpoint2 - midpoint1) / 60))\n",
    "df.to_csv(path_or_buf='/Users/kwaechte/Documents/cleap/'+doe_prototype+'.csv', sep=',', na_rep='', float_format=None, columns=None, header=True, index=True, index_label=None, mode='w', encoding=None, compression=None, quoting=None, quotechar='\"', line_terminator='\\n', chunksize=None, date_format=None, doublequote=True, escapechar=None, decimal='.')\n",
    "end = time.time()\n",
    "print(\"took %f minutes for csv export\" % ((end - midpoint2) / 60))"
   ]
  },
  {
   "cell_type": "code",
   "execution_count": null,
   "metadata": {},
   "outputs": [],
   "source": []
  },
  {
   "cell_type": "code",
   "execution_count": null,
   "metadata": {},
   "outputs": [],
   "source": []
  },
  {
   "cell_type": "code",
   "execution_count": null,
   "metadata": {},
   "outputs": [],
   "source": []
  },
  {
   "cell_type": "code",
   "execution_count": null,
   "metadata": {},
   "outputs": [],
   "source": []
  },
  {
   "cell_type": "code",
   "execution_count": null,
   "metadata": {},
   "outputs": [],
   "source": []
  },
  {
   "cell_type": "code",
   "execution_count": null,
   "metadata": {},
   "outputs": [],
   "source": [
    "#How many records? \n",
    "len(df_final.loc[df_final.doe_prototype.isnotnull()])"
   ]
  },
  {
   "cell_type": "code",
   "execution_count": null,
   "metadata": {},
   "outputs": [],
   "source": []
  }
 ],
 "metadata": {
  "kernelspec": {
   "display_name": "Python 3",
   "language": "python",
   "name": "python3"
  },
  "language_info": {
   "codemirror_mode": {
    "name": "ipython",
    "version": 3
   },
   "file_extension": ".py",
   "mimetype": "text/x-python",
   "name": "python",
   "nbconvert_exporter": "python",
   "pygments_lexer": "ipython3",
   "version": "3.6.8"
  }
 },
 "nbformat": 4,
 "nbformat_minor": 2
}
